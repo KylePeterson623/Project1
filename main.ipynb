{
 "cells": [
  {
   "cell_type": "code",
   "execution_count": 1,
   "metadata": {},
   "outputs": [],
   "source": [
    "#Dependancies\n",
    "import pandas as pd\n",
    "import numpy as np\n",
    "import matplotlib.pyplot as plt"
   ]
  },
  {
   "cell_type": "code",
   "execution_count": 2,
   "metadata": {},
   "outputs": [],
   "source": [
    "#Reading in the csv files\n",
    "\n",
    "#Creates two variables containing the locations of each csv\n",
    "csvpath1 = \"csvFiles/googleplaystore.csv\"\n",
    "csvpath2 = \"csvFiles/googleplaystore_user_reviews.csv\"\n",
    "\n",
    "#Translates the csv files into pandas dataframes\n",
    "rawGoogleApps = pd.read_csv(csvpath1)\n",
    "rawGoogleReviews = pd.read_csv(csvpath2)"
   ]
  },
  {
   "cell_type": "code",
   "execution_count": 3,
   "metadata": {},
   "outputs": [],
   "source": [
    "#Cleaning the datasets\n",
    "\n",
    "#Pulls every column from rawGoogleApps aside from update versions\n",
    "googleApps = rawGoogleApps[[\"App\", \"Category\", \"Rating\", \"Reviews\", \"Size\", \"Installs\", \"Type\", \"Price\",\n",
    "                            \"Content Rating\", \"Genres\", \"Last Updated\"]]\n",
    "#Pulls only the App and Sentiment columns from rawGoogleReviews\n",
    "googleReviews = rawGoogleReviews[[\"App\", \"Sentiment\"]]\n",
    "\n",
    "#Simplifies a column name in googleApps to make it easier to work with\n",
    "googleApps = googleApps.rename(columns={\"Last Updated\": \"Updated\"})\n",
    "\n",
    "#Drops rows that are lacking information\n",
    "googleReviews = googleReviews.dropna()\n",
    "googleApps = googleApps.dropna()"
   ]
  },
  {
   "cell_type": "code",
   "execution_count": null,
   "metadata": {},
   "outputs": [],
   "source": []
  }
 ],
 "metadata": {
  "kernelspec": {
   "display_name": "Python 3",
   "language": "python",
   "name": "python3"
  },
  "language_info": {
   "codemirror_mode": {
    "name": "ipython",
    "version": 3
   },
   "file_extension": ".py",
   "mimetype": "text/x-python",
   "name": "python",
   "nbconvert_exporter": "python",
   "pygments_lexer": "ipython3",
   "version": "3.6.5"
  }
 },
 "nbformat": 4,
 "nbformat_minor": 2
}
