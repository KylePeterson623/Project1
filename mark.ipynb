{
 "cells": [
  {
   "cell_type": "code",
   "execution_count": 117,
   "metadata": {},
   "outputs": [],
   "source": [
    "#Dependancies\n",
    "import pandas as pd\n",
    "import numpy as np\n",
    "import matplotlib.pyplot as plt"
   ]
  },
  {
   "cell_type": "code",
   "execution_count": 118,
   "metadata": {},
   "outputs": [],
   "source": [
    "#Reading in the csv files\n",
    "\n",
    "#Creates two variables containing the locations of each csv\n",
    "csvpath1 = \"csvFiles/googleplaystore.csv\"\n",
    "csvpath2 = \"csvFiles/googleplaystore_user_reviews.csv\"\n",
    "\n",
    "#Translates the csv files into pandas dataframes\n",
    "rawGoogleApps = pd.read_csv(csvpath1)\n",
    "rawGoogleReviews = pd.read_csv(csvpath2)"
   ]
  },
  {
   "cell_type": "code",
   "execution_count": 119,
   "metadata": {},
   "outputs": [
    {
     "data": {
      "text/html": [
       "<div>\n",
       "<style scoped>\n",
       "    .dataframe tbody tr th:only-of-type {\n",
       "        vertical-align: middle;\n",
       "    }\n",
       "\n",
       "    .dataframe tbody tr th {\n",
       "        vertical-align: top;\n",
       "    }\n",
       "\n",
       "    .dataframe thead th {\n",
       "        text-align: right;\n",
       "    }\n",
       "</style>\n",
       "<table border=\"1\" class=\"dataframe\">\n",
       "  <thead>\n",
       "    <tr style=\"text-align: right;\">\n",
       "      <th></th>\n",
       "      <th>App</th>\n",
       "      <th>Category</th>\n",
       "      <th>Rating</th>\n",
       "      <th>Reviews</th>\n",
       "      <th>Kilobytes</th>\n",
       "      <th>Installs</th>\n",
       "      <th>Type</th>\n",
       "      <th>Price in Dollars</th>\n",
       "      <th>Maturity</th>\n",
       "      <th>Updated</th>\n",
       "    </tr>\n",
       "  </thead>\n",
       "  <tbody>\n",
       "    <tr>\n",
       "      <th>0</th>\n",
       "      <td>Photo Editor &amp; Candy Camera &amp; Grid &amp; ScrapBook</td>\n",
       "      <td>Art and Design</td>\n",
       "      <td>4.1</td>\n",
       "      <td>159</td>\n",
       "      <td>19000</td>\n",
       "      <td>10000</td>\n",
       "      <td>Free</td>\n",
       "      <td>0.0</td>\n",
       "      <td>Everyone</td>\n",
       "      <td>January 7, 2018</td>\n",
       "    </tr>\n",
       "    <tr>\n",
       "      <th>2</th>\n",
       "      <td>U Launcher Lite – FREE Live Cool Themes, Hide ...</td>\n",
       "      <td>Art and Design</td>\n",
       "      <td>4.7</td>\n",
       "      <td>87510</td>\n",
       "      <td>87000</td>\n",
       "      <td>5000000</td>\n",
       "      <td>Free</td>\n",
       "      <td>0.0</td>\n",
       "      <td>Everyone</td>\n",
       "      <td>August 1, 2018</td>\n",
       "    </tr>\n",
       "    <tr>\n",
       "      <th>3</th>\n",
       "      <td>Sketch - Draw &amp; Paint</td>\n",
       "      <td>Art and Design</td>\n",
       "      <td>4.5</td>\n",
       "      <td>215644</td>\n",
       "      <td>25000</td>\n",
       "      <td>50000000</td>\n",
       "      <td>Free</td>\n",
       "      <td>0.0</td>\n",
       "      <td>Teen</td>\n",
       "      <td>June 8, 2018</td>\n",
       "    </tr>\n",
       "    <tr>\n",
       "      <th>4</th>\n",
       "      <td>Pixel Draw - Number Art Coloring Book</td>\n",
       "      <td>Art and Design</td>\n",
       "      <td>4.3</td>\n",
       "      <td>967</td>\n",
       "      <td>28000</td>\n",
       "      <td>100000</td>\n",
       "      <td>Free</td>\n",
       "      <td>0.0</td>\n",
       "      <td>Everyone</td>\n",
       "      <td>June 20, 2018</td>\n",
       "    </tr>\n",
       "    <tr>\n",
       "      <th>5</th>\n",
       "      <td>Paper flowers instructions</td>\n",
       "      <td>Art and Design</td>\n",
       "      <td>4.4</td>\n",
       "      <td>167</td>\n",
       "      <td>56000</td>\n",
       "      <td>50000</td>\n",
       "      <td>Free</td>\n",
       "      <td>0.0</td>\n",
       "      <td>Everyone</td>\n",
       "      <td>March 26, 2017</td>\n",
       "    </tr>\n",
       "  </tbody>\n",
       "</table>\n",
       "</div>"
      ],
      "text/plain": [
       "                                                 App        Category  Rating  \\\n",
       "0     Photo Editor & Candy Camera & Grid & ScrapBook  Art and Design     4.1   \n",
       "2  U Launcher Lite – FREE Live Cool Themes, Hide ...  Art and Design     4.7   \n",
       "3                              Sketch - Draw & Paint  Art and Design     4.5   \n",
       "4              Pixel Draw - Number Art Coloring Book  Art and Design     4.3   \n",
       "5                         Paper flowers instructions  Art and Design     4.4   \n",
       "\n",
       "   Reviews  Kilobytes  Installs  Type  Price in Dollars  Maturity  \\\n",
       "0      159      19000     10000  Free               0.0  Everyone   \n",
       "2    87510      87000   5000000  Free               0.0  Everyone   \n",
       "3   215644      25000  50000000  Free               0.0      Teen   \n",
       "4      967      28000    100000  Free               0.0  Everyone   \n",
       "5      167      56000     50000  Free               0.0  Everyone   \n",
       "\n",
       "           Updated  \n",
       "0  January 7, 2018  \n",
       "2   August 1, 2018  \n",
       "3     June 8, 2018  \n",
       "4    June 20, 2018  \n",
       "5   March 26, 2017  "
      ]
     },
     "execution_count": 119,
     "metadata": {},
     "output_type": "execute_result"
    }
   ],
   "source": [
    "#Cleaning the datasets\n",
    "\n",
    "#Pulls every column from rawGoogleApps aside from update versions\n",
    "googleApps = rawGoogleApps[[\"App\", \"Category\", \"Rating\", \"Reviews\", \"Size\", \"Installs\", \"Type\", \"Price\",\n",
    "                            \"Content Rating\", \"Last Updated\"]]\n",
    "\n",
    "#Pulls only the App and Sentiment columns from rawGoogleReviews\n",
    "googleReviews = rawGoogleReviews[[\"App\", \"Sentiment\"]]\n",
    "\n",
    "#Modifies column names\n",
    "googleApps = googleApps.rename(columns={\"Last Updated\": \"Updated\",\n",
    "                                       \"Price\": \"Price in Dollars\",\n",
    "                                       \"Size\": \"Kilobytes\",\n",
    "                                       \"Content Rating\": \"Maturity\"})\n",
    "\n",
    "#Drops rows that are lacking information\n",
    "googleReviews = googleReviews.dropna()\n",
    "googleApps = googleApps.dropna()\n",
    "\n",
    "#Changes the Category column for googleApps to make it more readable\n",
    "googleApps[\"Category\"] = googleApps[\"Category\"].replace({\"ART_AND_DESIGN\": \"Art and Design\",\n",
    "                                                        \"AUTO_AND_VEHICLES\": \"Auto and Vehicles\",\n",
    "                                                        \"BEAUTY\": \"Beauty\",\n",
    "                                                        \"BOOKS_AND_REFERENCE\": \"Books and Reference\",\n",
    "                                                        \"BUSINESS\": \"Business\",\n",
    "                                                        \"COMICS\": \"Comics\",\n",
    "                                                        \"COMMUNICATION\": \"Communication\",\n",
    "                                                        \"DATING\": \"Dating\",\n",
    "                                                        \"EDUCATION\": \"Education\",\n",
    "                                                        \"ENTERTAINMENT\": \"Entertainment\",\n",
    "                                                        \"EVENTS\": \"Events\",\n",
    "                                                        \"FINANCE\": \"Finance\",\n",
    "                                                        \"FOOD_AND_DRINK\": \"Food and Drink\",\n",
    "                                                        \"HEALTH_AND_FITNESS\": \"Health and Fitness\",\n",
    "                                                        \"HOUSE_AND_HOME\": \"House and Home\",\n",
    "                                                        \"LIBRARIES_AND_DEMO\": \"Libraries and Demo\",\n",
    "                                                        \"LIFESTYLE\": \"Lifestyle\",\n",
    "                                                        \"GAME\": \"Game\",\n",
    "                                                        \"FAMILY\": \"Family\",\n",
    "                                                        \"MEDICAL\": \"Medical\",\n",
    "                                                        \"SOCIAL\": \"Social\",\n",
    "                                                        \"SHOPPING\": \"Shopping\",\n",
    "                                                        \"PHOTOGRAPHY\": \"Photography\",\n",
    "                                                        \"SPORTS\": \"Sports\",\n",
    "                                                        \"TRAVEL_AND_LOCAL\": \"Travel and Local\",\n",
    "                                                        \"TOOLS\": \"Tools\",\n",
    "                                                        \"PERSONALIZATION\": \"Personalization\",\n",
    "                                                        \"PRODUCTIVITY\": \"Productivity\",\n",
    "                                                        \"PARENTING\": \"Parenting\",\n",
    "                                                        \"WEATHER\": \"Weather\",\n",
    "                                                        \"VIDEO_PLAYERS\": \"Video Players\",\n",
    "                                                        \"NEWS_AND_MAGAZINES\": \"News and Magazines\",\n",
    "                                                        \"MAPS_AND_NAVIGATION\": \"Maps and Navigation\"})\n",
    "\n",
    "#Drops rows with values which won't be applicable to our experiments\n",
    "googleApps = googleApps[googleApps.Kilobytes != 'Varies with device']\n",
    "googleApps = googleApps[googleApps.Maturity != 'Unrated']\n",
    "googleApps = googleApps[googleApps.Maturity != 'Adults only 18+']\n",
    "\n",
    "#Removes the +, $ and other symbols to allow the values to be calculated in the future\n",
    "googleApps[\"Installs\"] = googleApps[\"Installs\"].str.replace('+', '', regex=True)\n",
    "googleApps[\"Installs\"] = googleApps[\"Installs\"].str.replace(',', '', regex=True)\n",
    "googleApps[\"Price in Dollars\"] = googleApps[\"Price in Dollars\"].str.replace('$', '', regex=True)\n",
    "googleApps[\"Kilobytes\"] = googleApps[\"Kilobytes\"].str.replace('M', '000', regex=True)\n",
    "googleApps[\"Kilobytes\"] = googleApps[\"Kilobytes\"].str.replace('.', '', regex=True)\n",
    "googleApps[\"Kilobytes\"] = googleApps[\"Kilobytes\"].str.replace('k', '', regex=True)\n",
    "\n",
    "#Sets data to a numeric value to allow values to be calculated in the future\n",
    "googleApps[\"Installs\"] = pd.to_numeric(googleApps[\"Installs\"])\n",
    "googleApps[\"Reviews\"] = pd.to_numeric(googleApps[\"Reviews\"])\n",
    "googleApps[\"Price in Dollars\"] = pd.to_numeric(googleApps[\"Price in Dollars\"])\n",
    "googleApps[\"Kilobytes\"] = pd.to_numeric(googleApps[\"Kilobytes\"])\n",
    "\n",
    "#Drops rows with duplicate app names, since they would cause our data to become inaccurate\n",
    "googleApps = googleApps.drop_duplicates(subset='App',keep='last')\n",
    "\n",
    "#Displays the dataframe\n",
    "googleApps.head()"
   ]
  },
  {
   "cell_type": "code",
   "execution_count": 120,
   "metadata": {},
   "outputs": [
    {
     "data": {
      "text/plain": [
       "App                 Subway Surfers\n",
       "Category                      Game\n",
       "Rating                         4.5\n",
       "Reviews                   27711703\n",
       "Kilobytes                    76000\n",
       "Installs                1000000000\n",
       "Type                          Free\n",
       "Price in Dollars                 0\n",
       "Maturity              Everyone 10+\n",
       "Updated              July 12, 2018\n",
       "Name: 3896, dtype: object"
      ]
     },
     "execution_count": 120,
     "metadata": {},
     "output_type": "execute_result"
    }
   ],
   "source": [
    "#Installed maximum value row\n",
    "maxInstalls=googleApps.loc[googleApps['Installs'].idxmax()]\n",
    "maxInstalls"
   ]
  },
  {
   "cell_type": "code",
   "execution_count": 121,
   "metadata": {},
   "outputs": [
    {
     "data": {
      "text/plain": [
       "App                 KBA-EZ Health Guide\n",
       "Category                        Medical\n",
       "Rating                                5\n",
       "Reviews                               4\n",
       "Kilobytes                         25000\n",
       "Installs                              1\n",
       "Type                               Free\n",
       "Price in Dollars                      0\n",
       "Maturity                       Everyone\n",
       "Updated                  August 2, 2018\n",
       "Name: 2454, dtype: object"
      ]
     },
     "execution_count": 121,
     "metadata": {},
     "output_type": "execute_result"
    }
   ],
   "source": [
    "#Installed minimum value row\n",
    "minInstalls=googleApps.loc[googleApps['Installs'].idxmin()]\n",
    "minInstalls"
   ]
  },
  {
   "cell_type": "code",
   "execution_count": 122,
   "metadata": {},
   "outputs": [
    {
     "data": {
      "text/plain": [
       "App                 Hojiboy Tojiboyev Life Hacks\n",
       "Category                                  Comics\n",
       "Rating                                         5\n",
       "Reviews                                       15\n",
       "Kilobytes                                  37000\n",
       "Installs                                    1000\n",
       "Type                                        Free\n",
       "Price in Dollars                               0\n",
       "Maturity                                Everyone\n",
       "Updated                            June 26, 2018\n",
       "Name: 329, dtype: object"
      ]
     },
     "execution_count": 122,
     "metadata": {},
     "output_type": "execute_result"
    }
   ],
   "source": [
    "#Rating maximum value row\n",
    "maxRating=googleApps.loc[googleApps['Rating'].idxmax()]\n",
    "maxRating"
   ]
  },
  {
   "cell_type": "code",
   "execution_count": 123,
   "metadata": {},
   "outputs": [
    {
     "data": {
      "text/plain": [
       "App                 House party - live chat\n",
       "Category                             Dating\n",
       "Rating                                    1\n",
       "Reviews                                   1\n",
       "Kilobytes                             92000\n",
       "Installs                                 10\n",
       "Type                                   Free\n",
       "Price in Dollars                          0\n",
       "Maturity                         Mature 17+\n",
       "Updated                       July 31, 2018\n",
       "Name: 625, dtype: object"
      ]
     },
     "execution_count": 123,
     "metadata": {},
     "output_type": "execute_result"
    }
   ],
   "source": [
    "#Rating minimum value row\n",
    "minRating=googleApps.loc[googleApps['Rating'].idxmin()]\n",
    "minRating"
   ]
  },
  {
   "cell_type": "code",
   "execution_count": 124,
   "metadata": {},
   "outputs": [
    {
     "data": {
      "text/plain": [
       "App                     Post Bank\n",
       "Category                  Finance\n",
       "Rating                        4.5\n",
       "Reviews                     60449\n",
       "Kilobytes                  100000\n",
       "Installs                  1000000\n",
       "Type                         Free\n",
       "Price in Dollars                0\n",
       "Maturity                 Everyone\n",
       "Updated             July 23, 2018\n",
       "Name: 1080, dtype: object"
      ]
     },
     "execution_count": 124,
     "metadata": {},
     "output_type": "execute_result"
    }
   ],
   "source": [
    "#Kilobyte size maximum\n",
    "maxKb=googleApps.loc[googleApps['Kilobytes'].idxmax()]\n",
    "maxKb"
   ]
  },
  {
   "cell_type": "code",
   "execution_count": null,
   "metadata": {},
   "outputs": [],
   "source": []
  },
  {
   "cell_type": "code",
   "execution_count": 125,
   "metadata": {},
   "outputs": [
    {
     "data": {
      "text/plain": [
       "App                 Market Update Helper\n",
       "Category              Libraries and Demo\n",
       "Rating                               4.1\n",
       "Reviews                            20145\n",
       "Kilobytes                             11\n",
       "Installs                         1000000\n",
       "Type                                Free\n",
       "Price in Dollars                       0\n",
       "Maturity                        Everyone\n",
       "Updated                February 12, 2013\n",
       "Name: 1553, dtype: object"
      ]
     },
     "execution_count": 125,
     "metadata": {},
     "output_type": "execute_result"
    }
   ],
   "source": [
    "#Kilobyte size minimum\n",
    "minKb=googleApps.loc[googleApps['Kilobytes'].idxmin()]\n",
    "minKb"
   ]
  },
  {
   "cell_type": "code",
   "execution_count": null,
   "metadata": {},
   "outputs": [],
   "source": []
  },
  {
   "cell_type": "code",
   "execution_count": 126,
   "metadata": {},
   "outputs": [
    {
     "data": {
      "text/plain": [
       "4.4    723\n",
       "4.3    717\n",
       "4.5    692\n",
       "4.2    673\n",
       "4.6    562\n",
       "4.1    536\n",
       "4.0    448\n",
       "4.7    388\n",
       "3.9    312\n",
       "5.0    266\n",
       "Name: Rating, dtype: int64"
      ]
     },
     "execution_count": 126,
     "metadata": {},
     "output_type": "execute_result"
    }
   ],
   "source": [
    "ratingCount = googleApps[\"Rating\"].value_counts()\n",
    "ratingCount.head(10)"
   ]
  },
  {
   "cell_type": "code",
   "execution_count": 127,
   "metadata": {},
   "outputs": [
    {
     "data": {
      "image/png": "[encoded data removed]",
      "text/plain": [
       "<Figure size 432x288 with 1 Axes>"
      ]
     },
     "metadata": {},
     "output_type": "display_data"
    },
    {
     "data": {
      "text/plain": [
       "<Figure size 432x288 with 0 Axes>"
      ]
     },
     "metadata": {},
     "output_type": "display_data"
    }
   ],
   "source": [
    "ratingCount.plot(marker='o', linewidth=0)\n",
    "plt.title(\"Quantity of Apps per rating Score\")\n",
    "plt.xlabel(\"Rating Score\")\n",
    "plt.ylabel(\"Quantity of Apps\")\n",
    "plt.show()\n",
    "plt.savefig('AppsPerRating')"
   ]
  },
  {
   "cell_type": "code",
   "execution_count": null,
   "metadata": {},
   "outputs": [],
   "source": []
  },
  {
   "cell_type": "code",
   "execution_count": 128,
   "metadata": {},
   "outputs": [
    {
     "data": {
      "text/html": [
       "<div>\n",
       "<style scoped>\n",
       "    .dataframe tbody tr th:only-of-type {\n",
       "        vertical-align: middle;\n",
       "    }\n",
       "\n",
       "    .dataframe tbody tr th {\n",
       "        vertical-align: top;\n",
       "    }\n",
       "\n",
       "    .dataframe thead th {\n",
       "        text-align: right;\n",
       "    }\n",
       "</style>\n",
       "<table border=\"1\" class=\"dataframe\">\n",
       "  <thead>\n",
       "    <tr style=\"text-align: right;\">\n",
       "      <th></th>\n",
       "      <th>Rating</th>\n",
       "      <th>Reviews</th>\n",
       "      <th>Kilobytes</th>\n",
       "      <th>Installs</th>\n",
       "      <th>Price in Dollars</th>\n",
       "    </tr>\n",
       "  </thead>\n",
       "  <tbody>\n",
       "    <tr>\n",
       "      <th>count</th>\n",
       "      <td>7026.000000</td>\n",
       "      <td>7.026000e+03</td>\n",
       "      <td>7026.000000</td>\n",
       "      <td>7.026000e+03</td>\n",
       "      <td>7026.000000</td>\n",
       "    </tr>\n",
       "    <tr>\n",
       "      <th>mean</th>\n",
       "      <td>4.160447</td>\n",
       "      <td>1.449556e+05</td>\n",
       "      <td>39434.121406</td>\n",
       "      <td>4.474559e+06</td>\n",
       "      <td>1.171890</td>\n",
       "    </tr>\n",
       "    <tr>\n",
       "      <th>std</th>\n",
       "      <td>0.559142</td>\n",
       "      <td>1.023960e+06</td>\n",
       "      <td>25120.007158</td>\n",
       "      <td>2.714500e+07</td>\n",
       "      <td>18.198351</td>\n",
       "    </tr>\n",
       "    <tr>\n",
       "      <th>min</th>\n",
       "      <td>1.000000</td>\n",
       "      <td>1.000000e+00</td>\n",
       "      <td>11.000000</td>\n",
       "      <td>1.000000e+00</td>\n",
       "      <td>0.000000</td>\n",
       "    </tr>\n",
       "    <tr>\n",
       "      <th>25%</th>\n",
       "      <td>4.000000</td>\n",
       "      <td>8.400000e+01</td>\n",
       "      <td>20000.000000</td>\n",
       "      <td>1.000000e+04</td>\n",
       "      <td>0.000000</td>\n",
       "    </tr>\n",
       "    <tr>\n",
       "      <th>50%</th>\n",
       "      <td>4.300000</td>\n",
       "      <td>1.545500e+03</td>\n",
       "      <td>33000.000000</td>\n",
       "      <td>1.000000e+05</td>\n",
       "      <td>0.000000</td>\n",
       "    </tr>\n",
       "    <tr>\n",
       "      <th>75%</th>\n",
       "      <td>4.500000</td>\n",
       "      <td>2.658325e+04</td>\n",
       "      <td>56000.000000</td>\n",
       "      <td>1.000000e+06</td>\n",
       "      <td>0.000000</td>\n",
       "    </tr>\n",
       "    <tr>\n",
       "      <th>max</th>\n",
       "      <td>5.000000</td>\n",
       "      <td>4.488145e+07</td>\n",
       "      <td>100000.000000</td>\n",
       "      <td>1.000000e+09</td>\n",
       "      <td>400.000000</td>\n",
       "    </tr>\n",
       "  </tbody>\n",
       "</table>\n",
       "</div>"
      ],
      "text/plain": [
       "            Rating       Reviews      Kilobytes      Installs  \\\n",
       "count  7026.000000  7.026000e+03    7026.000000  7.026000e+03   \n",
       "mean      4.160447  1.449556e+05   39434.121406  4.474559e+06   \n",
       "std       0.559142  1.023960e+06   25120.007158  2.714500e+07   \n",
       "min       1.000000  1.000000e+00      11.000000  1.000000e+00   \n",
       "25%       4.000000  8.400000e+01   20000.000000  1.000000e+04   \n",
       "50%       4.300000  1.545500e+03   33000.000000  1.000000e+05   \n",
       "75%       4.500000  2.658325e+04   56000.000000  1.000000e+06   \n",
       "max       5.000000  4.488145e+07  100000.000000  1.000000e+09   \n",
       "\n",
       "       Price in Dollars  \n",
       "count       7026.000000  \n",
       "mean           1.171890  \n",
       "std           18.198351  \n",
       "min            0.000000  \n",
       "25%            0.000000  \n",
       "50%            0.000000  \n",
       "75%            0.000000  \n",
       "max          400.000000  "
      ]
     },
     "execution_count": 128,
     "metadata": {},
     "output_type": "execute_result"
    }
   ],
   "source": [
    "googleApps.describe()"
   ]
  },
  {
   "cell_type": "code",
   "execution_count": null,
   "metadata": {},
   "outputs": [],
   "source": []
  },
  {
   "cell_type": "code",
   "execution_count": 129,
   "metadata": {},
   "outputs": [
    {
     "data": {
      "text/html": [
       "<div>\n",
       "<style scoped>\n",
       "    .dataframe tbody tr th:only-of-type {\n",
       "        vertical-align: middle;\n",
       "    }\n",
       "\n",
       "    .dataframe tbody tr th {\n",
       "        vertical-align: top;\n",
       "    }\n",
       "\n",
       "    .dataframe thead th {\n",
       "        text-align: right;\n",
       "    }\n",
       "</style>\n",
       "<table border=\"1\" class=\"dataframe\">\n",
       "  <thead>\n",
       "    <tr style=\"text-align: right;\">\n",
       "      <th></th>\n",
       "      <th>Category</th>\n",
       "      <th>Rating</th>\n",
       "      <th>Reviews</th>\n",
       "      <th>Kilobytes</th>\n",
       "      <th>Installs</th>\n",
       "      <th>Price in Dollars</th>\n",
       "    </tr>\n",
       "  </thead>\n",
       "  <tbody>\n",
       "    <tr>\n",
       "      <th>0</th>\n",
       "      <td>Art and Design</td>\n",
       "      <td>4.363158</td>\n",
       "      <td>18915.140351</td>\n",
       "      <td>38789.473684</td>\n",
       "      <td>1.723388e+06</td>\n",
       "      <td>0.104737</td>\n",
       "    </tr>\n",
       "    <tr>\n",
       "      <th>1</th>\n",
       "      <td>Auto and Vehicles</td>\n",
       "      <td>4.147619</td>\n",
       "      <td>15750.571429</td>\n",
       "      <td>39669.857143</td>\n",
       "      <td>6.947587e+05</td>\n",
       "      <td>0.000000</td>\n",
       "    </tr>\n",
       "    <tr>\n",
       "      <th>2</th>\n",
       "      <td>Beauty</td>\n",
       "      <td>4.291892</td>\n",
       "      <td>5020.243243</td>\n",
       "      <td>37891.891892</td>\n",
       "      <td>3.626000e+05</td>\n",
       "      <td>0.000000</td>\n",
       "    </tr>\n",
       "    <tr>\n",
       "      <th>3</th>\n",
       "      <td>Books and Reference</td>\n",
       "      <td>4.322695</td>\n",
       "      <td>23142.453901</td>\n",
       "      <td>39328.510638</td>\n",
       "      <td>8.140720e+05</td>\n",
       "      <td>0.148156</td>\n",
       "    </tr>\n",
       "    <tr>\n",
       "      <th>4</th>\n",
       "      <td>Business</td>\n",
       "      <td>4.094118</td>\n",
       "      <td>19013.466063</td>\n",
       "      <td>37175.493213</td>\n",
       "      <td>1.725262e+06</td>\n",
       "      <td>0.232670</td>\n",
       "    </tr>\n",
       "    <tr>\n",
       "      <th>5</th>\n",
       "      <td>Comics</td>\n",
       "      <td>4.158696</td>\n",
       "      <td>12810.586957</td>\n",
       "      <td>33218.543478</td>\n",
       "      <td>3.680674e+05</td>\n",
       "      <td>0.000000</td>\n",
       "    </tr>\n",
       "    <tr>\n",
       "      <th>6</th>\n",
       "      <td>Communication</td>\n",
       "      <td>4.076720</td>\n",
       "      <td>242971.079365</td>\n",
       "      <td>31360.444444</td>\n",
       "      <td>9.623892e+06</td>\n",
       "      <td>0.220794</td>\n",
       "    </tr>\n",
       "    <tr>\n",
       "      <th>7</th>\n",
       "      <td>Dating</td>\n",
       "      <td>3.963934</td>\n",
       "      <td>18009.909836</td>\n",
       "      <td>39377.049180</td>\n",
       "      <td>6.933804e+05</td>\n",
       "      <td>0.122787</td>\n",
       "    </tr>\n",
       "    <tr>\n",
       "      <th>8</th>\n",
       "      <td>Education</td>\n",
       "      <td>4.357333</td>\n",
       "      <td>40277.893333</td>\n",
       "      <td>34654.426667</td>\n",
       "      <td>1.296013e+06</td>\n",
       "      <td>0.106400</td>\n",
       "    </tr>\n",
       "    <tr>\n",
       "      <th>9</th>\n",
       "      <td>Entertainment</td>\n",
       "      <td>4.143396</td>\n",
       "      <td>127862.811321</td>\n",
       "      <td>37075.471698</td>\n",
       "      <td>9.065283e+06</td>\n",
       "      <td>0.056415</td>\n",
       "    </tr>\n",
       "  </tbody>\n",
       "</table>\n",
       "</div>"
      ],
      "text/plain": [
       "              Category    Rating        Reviews     Kilobytes      Installs  \\\n",
       "0       Art and Design  4.363158   18915.140351  38789.473684  1.723388e+06   \n",
       "1    Auto and Vehicles  4.147619   15750.571429  39669.857143  6.947587e+05   \n",
       "2               Beauty  4.291892    5020.243243  37891.891892  3.626000e+05   \n",
       "3  Books and Reference  4.322695   23142.453901  39328.510638  8.140720e+05   \n",
       "4             Business  4.094118   19013.466063  37175.493213  1.725262e+06   \n",
       "5               Comics  4.158696   12810.586957  33218.543478  3.680674e+05   \n",
       "6        Communication  4.076720  242971.079365  31360.444444  9.623892e+06   \n",
       "7               Dating  3.963934   18009.909836  39377.049180  6.933804e+05   \n",
       "8            Education  4.357333   40277.893333  34654.426667  1.296013e+06   \n",
       "9        Entertainment  4.143396  127862.811321  37075.471698  9.065283e+06   \n",
       "\n",
       "   Price in Dollars  \n",
       "0          0.104737  \n",
       "1          0.000000  \n",
       "2          0.000000  \n",
       "3          0.148156  \n",
       "4          0.232670  \n",
       "5          0.000000  \n",
       "6          0.220794  \n",
       "7          0.122787  \n",
       "8          0.106400  \n",
       "9          0.056415  "
      ]
     },
     "execution_count": 129,
     "metadata": {},
     "output_type": "execute_result"
    }
   ],
   "source": [
    "# Find the averages for each category\n",
    "categoryAverage = googleApps.groupby(['Category'], as_index=False).mean()\n",
    "categoryAverage.head(10)"
   ]
  },
  {
   "cell_type": "code",
   "execution_count": 130,
   "metadata": {},
   "outputs": [
    {
     "data": {
      "text/html": [
       "<div>\n",
       "<style scoped>\n",
       "    .dataframe tbody tr th:only-of-type {\n",
       "        vertical-align: middle;\n",
       "    }\n",
       "\n",
       "    .dataframe tbody tr th {\n",
       "        vertical-align: top;\n",
       "    }\n",
       "\n",
       "    .dataframe thead th {\n",
       "        text-align: right;\n",
       "    }\n",
       "</style>\n",
       "<table border=\"1\" class=\"dataframe\">\n",
       "  <thead>\n",
       "    <tr style=\"text-align: right;\">\n",
       "      <th></th>\n",
       "      <th>Rating</th>\n",
       "    </tr>\n",
       "    <tr>\n",
       "      <th>Category</th>\n",
       "      <th></th>\n",
       "    </tr>\n",
       "  </thead>\n",
       "  <tbody>\n",
       "    <tr>\n",
       "      <th>Art and Design</th>\n",
       "      <td>4.363158</td>\n",
       "    </tr>\n",
       "    <tr>\n",
       "      <th>Auto and Vehicles</th>\n",
       "      <td>4.147619</td>\n",
       "    </tr>\n",
       "    <tr>\n",
       "      <th>Beauty</th>\n",
       "      <td>4.291892</td>\n",
       "    </tr>\n",
       "    <tr>\n",
       "      <th>Books and Reference</th>\n",
       "      <td>4.322695</td>\n",
       "    </tr>\n",
       "    <tr>\n",
       "      <th>Business</th>\n",
       "      <td>4.094118</td>\n",
       "    </tr>\n",
       "  </tbody>\n",
       "</table>\n",
       "</div>"
      ],
      "text/plain": [
       "                       Rating\n",
       "Category                     \n",
       "Art and Design       4.363158\n",
       "Auto and Vehicles    4.147619\n",
       "Beauty               4.291892\n",
       "Books and Reference  4.322695\n",
       "Business             4.094118"
      ]
     },
     "execution_count": 130,
     "metadata": {},
     "output_type": "execute_result"
    }
   ],
   "source": [
    "# Filter the DataFrame down only to those columns to chart\n",
    "categoryRating = categoryAverage[[\"Category\",\"Rating\"]]\n",
    "\n",
    "# Set the index to be \"Category\" so they will be used as labels\n",
    "categoryRating = categoryRating.set_index(\"Category\")\n",
    "\n",
    "categoryRating.head()"
   ]
  },
  {
   "cell_type": "code",
   "execution_count": 142,
   "metadata": {},
   "outputs": [
    {
     "data": {
      "image/png": "[encoded data removed]",
      "text/plain": [
       "<Figure size 864x576 with 1 Axes>"
      ]
     },
     "metadata": {},
     "output_type": "display_data"
    },
    {
     "data": {
      "text/plain": [
       "<Figure size 432x288 with 0 Axes>"
      ]
     },
     "metadata": {},
     "output_type": "display_data"
    }
   ],
   "source": [
    "# Use DataFrame.plot() in order to create a bar chart of the data\n",
    "categoryRating.plot(kind=\"bar\", figsize=(12,8))\n",
    "\n",
    "# Sets the y limits of the current chart\n",
    "plt.ylim(3.9, 4.5)\n",
    "plt.ylabel(\"Rating\")\n",
    "\n",
    "# Set a title for the chart\n",
    "plt.title(\"Average Rating Per Category\")\n",
    "\n",
    "plt.show()\n",
    "plt.tight_layout()"
   ]
  },
  {
   "cell_type": "code",
   "execution_count": null,
   "metadata": {},
   "outputs": [],
   "source": []
  },
  {
   "cell_type": "code",
   "execution_count": 132,
   "metadata": {},
   "outputs": [
    {
     "data": {
      "text/plain": [
       "Category              Dating\n",
       "Rating               3.96393\n",
       "Reviews              18009.9\n",
       "Kilobytes              39377\n",
       "Installs              693380\n",
       "Price in Dollars    0.122787\n",
       "Name: 7, dtype: object"
      ]
     },
     "execution_count": 132,
     "metadata": {},
     "output_type": "execute_result"
    }
   ],
   "source": [
    "#Category with minimum average rating\n",
    "catMinRating=categoryAverage.loc[categoryAverage['Rating'].idxmin()]\n",
    "catMinRating"
   ]
  },
  {
   "cell_type": "code",
   "execution_count": 133,
   "metadata": {},
   "outputs": [
    {
     "data": {
      "text/plain": [
       "Category             Events\n",
       "Rating              4.47895\n",
       "Reviews             3321.61\n",
       "Kilobytes           37903.5\n",
       "Installs             280221\n",
       "Price in Dollars          0\n",
       "Name: 10, dtype: object"
      ]
     },
     "execution_count": 133,
     "metadata": {},
     "output_type": "execute_result"
    }
   ],
   "source": [
    "#Category with maximum average rating\n",
    "catMaxRating=categoryAverage.loc[categoryAverage['Rating'].idxmax()]\n",
    "catMaxRating"
   ]
  },
  {
   "cell_type": "code",
   "execution_count": 134,
   "metadata": {},
   "outputs": [
    {
     "data": {
      "text/plain": [
       "Category            Medical\n",
       "Rating              4.16554\n",
       "Reviews             4269.88\n",
       "Kilobytes           35030.3\n",
       "Installs             121948\n",
       "Price in Dollars    2.14221\n",
       "Name: 20, dtype: object"
      ]
     },
     "execution_count": 134,
     "metadata": {},
     "output_type": "execute_result"
    }
   ],
   "source": [
    "#Category with minimum average installs\n",
    "catMinInstalls=categoryAverage.loc[categoryAverage['Installs'].idxmin()]\n",
    "catMinInstalls"
   ]
  },
  {
   "cell_type": "code",
   "execution_count": 135,
   "metadata": {},
   "outputs": [
    {
     "data": {
      "text/plain": [
       "Category                   Game\n",
       "Rating                  4.22848\n",
       "Reviews                  440026\n",
       "Kilobytes               47468.2\n",
       "Installs            1.14084e+07\n",
       "Price in Dollars        0.33755\n",
       "Name: 14, dtype: object"
      ]
     },
     "execution_count": 135,
     "metadata": {},
     "output_type": "execute_result"
    }
   ],
   "source": [
    "#Category with maximum average installs\n",
    "catMaxInstalls=categoryAverage.loc[categoryAverage['Installs'].idxmax()]\n",
    "catMaxInstalls"
   ]
  },
  {
   "cell_type": "code",
   "execution_count": null,
   "metadata": {},
   "outputs": [],
   "source": []
  },
  {
   "cell_type": "code",
   "execution_count": 136,
   "metadata": {},
   "outputs": [
    {
     "data": {
      "text/html": [
       "<div>\n",
       "<style scoped>\n",
       "    .dataframe tbody tr th:only-of-type {\n",
       "        vertical-align: middle;\n",
       "    }\n",
       "\n",
       "    .dataframe tbody tr th {\n",
       "        vertical-align: top;\n",
       "    }\n",
       "\n",
       "    .dataframe thead th {\n",
       "        text-align: right;\n",
       "    }\n",
       "</style>\n",
       "<table border=\"1\" class=\"dataframe\">\n",
       "  <thead>\n",
       "    <tr style=\"text-align: right;\">\n",
       "      <th></th>\n",
       "      <th>Category</th>\n",
       "      <th>Rating</th>\n",
       "      <th>Reviews</th>\n",
       "      <th>Kilobytes</th>\n",
       "      <th>Installs</th>\n",
       "      <th>Price in Dollars</th>\n",
       "    </tr>\n",
       "  </thead>\n",
       "  <tbody>\n",
       "    <tr>\n",
       "      <th>0</th>\n",
       "      <td>Art and Design</td>\n",
       "      <td>248.7</td>\n",
       "      <td>1078163</td>\n",
       "      <td>2211000</td>\n",
       "      <td>98233100</td>\n",
       "      <td>5.97</td>\n",
       "    </tr>\n",
       "    <tr>\n",
       "      <th>1</th>\n",
       "      <td>Auto and Vehicles</td>\n",
       "      <td>261.3</td>\n",
       "      <td>992286</td>\n",
       "      <td>2499201</td>\n",
       "      <td>43769800</td>\n",
       "      <td>0.00</td>\n",
       "    </tr>\n",
       "    <tr>\n",
       "      <th>2</th>\n",
       "      <td>Beauty</td>\n",
       "      <td>158.8</td>\n",
       "      <td>185749</td>\n",
       "      <td>1402000</td>\n",
       "      <td>13416200</td>\n",
       "      <td>0.00</td>\n",
       "    </tr>\n",
       "    <tr>\n",
       "      <th>3</th>\n",
       "      <td>Books and Reference</td>\n",
       "      <td>609.5</td>\n",
       "      <td>3263086</td>\n",
       "      <td>5545320</td>\n",
       "      <td>114784155</td>\n",
       "      <td>20.89</td>\n",
       "    </tr>\n",
       "    <tr>\n",
       "      <th>4</th>\n",
       "      <td>Business</td>\n",
       "      <td>904.8</td>\n",
       "      <td>4201976</td>\n",
       "      <td>8215784</td>\n",
       "      <td>381282920</td>\n",
       "      <td>51.42</td>\n",
       "    </tr>\n",
       "  </tbody>\n",
       "</table>\n",
       "</div>"
      ],
      "text/plain": [
       "              Category  Rating  Reviews  Kilobytes   Installs  \\\n",
       "0       Art and Design   248.7  1078163    2211000   98233100   \n",
       "1    Auto and Vehicles   261.3   992286    2499201   43769800   \n",
       "2               Beauty   158.8   185749    1402000   13416200   \n",
       "3  Books and Reference   609.5  3263086    5545320  114784155   \n",
       "4             Business   904.8  4201976    8215784  381282920   \n",
       "\n",
       "   Price in Dollars  \n",
       "0              5.97  \n",
       "1              0.00  \n",
       "2              0.00  \n",
       "3             20.89  \n",
       "4             51.42  "
      ]
     },
     "execution_count": 136,
     "metadata": {},
     "output_type": "execute_result"
    }
   ],
   "source": [
    "# Find the total installs for each category\n",
    "categoryCount = googleApps.groupby(['Category'], as_index=False).sum()\n",
    "categoryCount.head()"
   ]
  },
  {
   "cell_type": "code",
   "execution_count": null,
   "metadata": {},
   "outputs": [],
   "source": []
  },
  {
   "cell_type": "code",
   "execution_count": 137,
   "metadata": {},
   "outputs": [
    {
     "data": {
      "text/plain": [
       "<matplotlib.axes._subplots.AxesSubplot at 0x2b78ea010b8>"
      ]
     },
     "execution_count": 137,
     "metadata": {},
     "output_type": "execute_result"
    },
    {
     "data": {
      "image/png": "[encoded data removed]",
      "text/plain": [
       "<Figure size 432x288 with 1 Axes>"
      ]
     },
     "metadata": {},
     "output_type": "display_data"
    }
   ],
   "source": [
    "categoryCount.set_index('Category').T.plot(kind='bar', stacked=True)"
   ]
  },
  {
   "cell_type": "code",
   "execution_count": 138,
   "metadata": {},
   "outputs": [
    {
     "data": {
      "text/html": [
       "<div>\n",
       "<style scoped>\n",
       "    .dataframe tbody tr th:only-of-type {\n",
       "        vertical-align: middle;\n",
       "    }\n",
       "\n",
       "    .dataframe tbody tr th {\n",
       "        vertical-align: top;\n",
       "    }\n",
       "\n",
       "    .dataframe thead th {\n",
       "        text-align: right;\n",
       "    }\n",
       "</style>\n",
       "<table border=\"1\" class=\"dataframe\">\n",
       "  <thead>\n",
       "    <tr style=\"text-align: right;\">\n",
       "      <th></th>\n",
       "      <th>Category</th>\n",
       "      <th>App</th>\n",
       "      <th>Rating</th>\n",
       "      <th>Reviews</th>\n",
       "      <th>Kilobytes</th>\n",
       "      <th>Installs</th>\n",
       "      <th>Type</th>\n",
       "      <th>Price in Dollars</th>\n",
       "      <th>Maturity</th>\n",
       "      <th>Updated</th>\n",
       "    </tr>\n",
       "  </thead>\n",
       "  <tbody>\n",
       "    <tr>\n",
       "      <th>0</th>\n",
       "      <td>Art and Design</td>\n",
       "      <td>350 Diy Room Decor Ideas</td>\n",
       "      <td>3.2</td>\n",
       "      <td>1</td>\n",
       "      <td>10000</td>\n",
       "      <td>100</td>\n",
       "      <td>Free</td>\n",
       "      <td>0.0</td>\n",
       "      <td>Everyone</td>\n",
       "      <td>April 15, 2018</td>\n",
       "    </tr>\n",
       "    <tr>\n",
       "      <th>1</th>\n",
       "      <td>Auto and Vehicles</td>\n",
       "      <td>AE Garage</td>\n",
       "      <td>2.1</td>\n",
       "      <td>2</td>\n",
       "      <td>201</td>\n",
       "      <td>100</td>\n",
       "      <td>Free</td>\n",
       "      <td>0.0</td>\n",
       "      <td>Everyone</td>\n",
       "      <td>April 21, 2018</td>\n",
       "    </tr>\n",
       "    <tr>\n",
       "      <th>2</th>\n",
       "      <td>Beauty</td>\n",
       "      <td>AI Face Beauty Analysis - IntelliFace (Free)</td>\n",
       "      <td>3.1</td>\n",
       "      <td>1</td>\n",
       "      <td>12000</td>\n",
       "      <td>100</td>\n",
       "      <td>Free</td>\n",
       "      <td>0.0</td>\n",
       "      <td>Everyone</td>\n",
       "      <td>April 11, 2018</td>\n",
       "    </tr>\n",
       "    <tr>\n",
       "      <th>3</th>\n",
       "      <td>Books and Reference</td>\n",
       "      <td>10,000 Quotes DB (Premium)</td>\n",
       "      <td>2.7</td>\n",
       "      <td>2</td>\n",
       "      <td>93</td>\n",
       "      <td>5</td>\n",
       "      <td>Free</td>\n",
       "      <td>0.0</td>\n",
       "      <td>Everyone</td>\n",
       "      <td>April 10, 2016</td>\n",
       "    </tr>\n",
       "    <tr>\n",
       "      <th>4</th>\n",
       "      <td>Business</td>\n",
       "      <td>104 Looking for a job - looking for a job, loo...</td>\n",
       "      <td>1.0</td>\n",
       "      <td>1</td>\n",
       "      <td>23</td>\n",
       "      <td>5</td>\n",
       "      <td>Free</td>\n",
       "      <td>0.0</td>\n",
       "      <td>Everyone</td>\n",
       "      <td>April 11, 2017</td>\n",
       "    </tr>\n",
       "  </tbody>\n",
       "</table>\n",
       "</div>"
      ],
      "text/plain": [
       "              Category                                                App  \\\n",
       "0       Art and Design                           350 Diy Room Decor Ideas   \n",
       "1    Auto and Vehicles                                          AE Garage   \n",
       "2               Beauty       AI Face Beauty Analysis - IntelliFace (Free)   \n",
       "3  Books and Reference                         10,000 Quotes DB (Premium)   \n",
       "4             Business  104 Looking for a job - looking for a job, loo...   \n",
       "\n",
       "   Rating  Reviews  Kilobytes  Installs  Type  Price in Dollars  Maturity  \\\n",
       "0     3.2        1      10000       100  Free               0.0  Everyone   \n",
       "1     2.1        2        201       100  Free               0.0  Everyone   \n",
       "2     3.1        1      12000       100  Free               0.0  Everyone   \n",
       "3     2.7        2         93         5  Free               0.0  Everyone   \n",
       "4     1.0        1         23         5  Free               0.0  Everyone   \n",
       "\n",
       "          Updated  \n",
       "0  April 15, 2018  \n",
       "1  April 21, 2018  \n",
       "2  April 11, 2018  \n",
       "3  April 10, 2016  \n",
       "4  April 11, 2017  "
      ]
     },
     "execution_count": 138,
     "metadata": {},
     "output_type": "execute_result"
    }
   ],
   "source": [
    "# Minimums for each category\n",
    "categoryMin = googleApps.groupby(['Category'], as_index=False).min()\n",
    "categoryMin.head()"
   ]
  },
  {
   "cell_type": "code",
   "execution_count": 139,
   "metadata": {},
   "outputs": [
    {
     "data": {
      "text/html": [
       "<div>\n",
       "<style scoped>\n",
       "    .dataframe tbody tr th:only-of-type {\n",
       "        vertical-align: middle;\n",
       "    }\n",
       "\n",
       "    .dataframe tbody tr th {\n",
       "        vertical-align: top;\n",
       "    }\n",
       "\n",
       "    .dataframe thead th {\n",
       "        text-align: right;\n",
       "    }\n",
       "</style>\n",
       "<table border=\"1\" class=\"dataframe\">\n",
       "  <thead>\n",
       "    <tr style=\"text-align: right;\">\n",
       "      <th></th>\n",
       "      <th>Category</th>\n",
       "      <th>App</th>\n",
       "      <th>Rating</th>\n",
       "      <th>Reviews</th>\n",
       "      <th>Kilobytes</th>\n",
       "      <th>Installs</th>\n",
       "      <th>Type</th>\n",
       "      <th>Price in Dollars</th>\n",
       "      <th>Maturity</th>\n",
       "      <th>Updated</th>\n",
       "    </tr>\n",
       "  </thead>\n",
       "  <tbody>\n",
       "    <tr>\n",
       "      <th>0</th>\n",
       "      <td>Art and Design</td>\n",
       "      <td>صور حرف H</td>\n",
       "      <td>5.0</td>\n",
       "      <td>224399</td>\n",
       "      <td>94000</td>\n",
       "      <td>50000000</td>\n",
       "      <td>Paid</td>\n",
       "      <td>1.99</td>\n",
       "      <td>Teen</td>\n",
       "      <td>September 20, 2017</td>\n",
       "    </tr>\n",
       "    <tr>\n",
       "      <th>1</th>\n",
       "      <td>Auto and Vehicles</td>\n",
       "      <td>m.ride - your motorcycle app</td>\n",
       "      <td>4.9</td>\n",
       "      <td>271920</td>\n",
       "      <td>97000</td>\n",
       "      <td>10000000</td>\n",
       "      <td>Free</td>\n",
       "      <td>0.00</td>\n",
       "      <td>Teen</td>\n",
       "      <td>October 28, 2016</td>\n",
       "    </tr>\n",
       "    <tr>\n",
       "      <th>2</th>\n",
       "      <td>Beauty</td>\n",
       "      <td>ipsy: Makeup, Beauty, and Tips</td>\n",
       "      <td>4.9</td>\n",
       "      <td>49790</td>\n",
       "      <td>98000</td>\n",
       "      <td>5000000</td>\n",
       "      <td>Free</td>\n",
       "      <td>0.00</td>\n",
       "      <td>Teen</td>\n",
       "      <td>October 18, 2017</td>\n",
       "    </tr>\n",
       "    <tr>\n",
       "      <th>3</th>\n",
       "      <td>Books and Reference</td>\n",
       "      <td>日本AV历史</td>\n",
       "      <td>5.0</td>\n",
       "      <td>445756</td>\n",
       "      <td>98000</td>\n",
       "      <td>10000000</td>\n",
       "      <td>Paid</td>\n",
       "      <td>4.60</td>\n",
       "      <td>Teen</td>\n",
       "      <td>September 29, 2017</td>\n",
       "    </tr>\n",
       "    <tr>\n",
       "      <th>4</th>\n",
       "      <td>Business</td>\n",
       "      <td>sABN</td>\n",
       "      <td>5.0</td>\n",
       "      <td>1002859</td>\n",
       "      <td>99000</td>\n",
       "      <td>100000000</td>\n",
       "      <td>Paid</td>\n",
       "      <td>17.99</td>\n",
       "      <td>Teen</td>\n",
       "      <td>September 6, 2017</td>\n",
       "    </tr>\n",
       "  </tbody>\n",
       "</table>\n",
       "</div>"
      ],
      "text/plain": [
       "              Category                             App  Rating  Reviews  \\\n",
       "0       Art and Design                       صور حرف H     5.0   224399   \n",
       "1    Auto and Vehicles    m.ride - your motorcycle app     4.9   271920   \n",
       "2               Beauty  ipsy: Makeup, Beauty, and Tips     4.9    49790   \n",
       "3  Books and Reference                          日本AV历史     5.0   445756   \n",
       "4             Business                            sABN     5.0  1002859   \n",
       "\n",
       "   Kilobytes   Installs  Type  Price in Dollars Maturity             Updated  \n",
       "0      94000   50000000  Paid              1.99     Teen  September 20, 2017  \n",
       "1      97000   10000000  Free              0.00     Teen    October 28, 2016  \n",
       "2      98000    5000000  Free              0.00     Teen    October 18, 2017  \n",
       "3      98000   10000000  Paid              4.60     Teen  September 29, 2017  \n",
       "4      99000  100000000  Paid             17.99     Teen   September 6, 2017  "
      ]
     },
     "execution_count": 139,
     "metadata": {},
     "output_type": "execute_result"
    }
   ],
   "source": [
    "# Maximums for each category\n",
    "categoryMax = googleApps.groupby(['Category'], as_index=False).max()\n",
    "categoryMax.head()"
   ]
  },
  {
   "cell_type": "code",
   "execution_count": null,
   "metadata": {},
   "outputs": [],
   "source": []
  },
  {
   "cell_type": "code",
   "execution_count": 140,
   "metadata": {},
   "outputs": [
    {
     "data": {
      "text/plain": [
       "1"
      ]
     },
     "execution_count": 140,
     "metadata": {},
     "output_type": "execute_result"
    }
   ],
   "source": [
    "categoryMin['Installs'].min()"
   ]
  },
  {
   "cell_type": "code",
   "execution_count": null,
   "metadata": {},
   "outputs": [],
   "source": []
  },
  {
   "cell_type": "code",
   "execution_count": 141,
   "metadata": {},
   "outputs": [
    {
     "data": {
      "text/plain": [
       "2.1"
      ]
     },
     "execution_count": 141,
     "metadata": {},
     "output_type": "execute_result"
    }
   ],
   "source": [
    "# Installs1 = round(googleApps.loc[googleApps[\"Category\"] == \"Art and Design\"][\"Rating\"].mean(), 2)\n",
    "Installs2 = round(googleApps.loc[googleApps[\"Category\"] == \"Auto and Vehicles\"][\"Rating\"].min(), 2)\n",
    "Installs2"
   ]
  },
  {
   "cell_type": "code",
   "execution_count": null,
   "metadata": {},
   "outputs": [],
   "source": []
  }
 ],
 "metadata": {
  "kernelspec": {
   "display_name": "Python 3",
   "language": "python",
   "name": "python3"
  },
  "language_info": {
   "codemirror_mode": {
    "name": "ipython",
    "version": 3
   },
   "file_extension": ".py",
   "mimetype": "text/x-python",
   "name": "python",
   "nbconvert_exporter": "python",
   "pygments_lexer": "ipython3",
   "version": "3.6.5"
  }
 },
 "nbformat": 4,
 "nbformat_minor": 2
}
